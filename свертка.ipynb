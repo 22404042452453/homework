{
 "cells": [
  {
   "cell_type": "markdown",
   "id": "32ea0b2a",
   "metadata": {},
   "source": [
    "\n",
    "\n",
    "Берём условия последней задачи.\n",
    "\n",
    "Сделайте операцию свёртки и получите результат.\n",
    "\n",
    "Сколько ячеек в результирующем изображении равны 5/9 ?\n",
    "\n",
    "Будем гонять фильтр \n",
    "\n",
    "1/9 1/9 1/9\n",
    "\n",
    "1/9 1/9 1/9\n",
    "\n",
    "1/9 1/9 1/9\n",
    "\n",
    "по изображению\n",
    "\n",
    "100001\n",
    "\n",
    "011100\n",
    "\n",
    "011100\n",
    "\n",
    "111111\n",
    "\n",
    "001100\n",
    "\n",
    "101101"
   ]
  },
  {
   "cell_type": "code",
   "execution_count": 145,
   "id": "26c14717",
   "metadata": {},
   "outputs": [],
   "source": [
    "import numpy as np\n",
    "\n",
    "filtr =  np.array([[1/9 for i in range(3)] for j in range(3)])\n",
    "\n",
    "matrix = np.array([[1, 0, 0, 0, 0, 1], \n",
    "               [0, 1, 1, 1, 0, 0], \n",
    "               [0, 1, 1, 1, 0, 0], \n",
    "               [1, 1, 1, 1, 1, 1], \n",
    "               [0, 0, 1, 1, 0, 0], \n",
    "               [1, 0, 1, 1, 0, 1]])\n",
    "\n",
    "\n",
    "number = 5/9"
   ]
  },
  {
   "cell_type": "code",
   "execution_count": 148,
   "id": "f2ba22b9",
   "metadata": {},
   "outputs": [],
   "source": [
    "def mask(pictures,filtr,number):\n",
    "    final_size_y = (pictures.shape[0] - filtr.shape[0]) + 1\n",
    "    final_size_x = (pictures.shape[1] - filtr.shape[0]) + 1\n",
    "    result_pictures = np.zeros((final_size_y,final_size_x))\n",
    "    for i in range(len(pictures)-len(filtr)+1):\n",
    "        for j in range(pictures.shape[1]-len(filtr)+1):\n",
    "            result_pictures[i,j] = sum(sum(pictures[i:filtr.shape[0]+i,j:filtr.shape[0]+j] * filtr))\n",
    "    \n",
    "    return len(result_pictures[result_pictures == number])\n",
    "    \n",
    "    \n",
    "    "
   ]
  },
  {
   "cell_type": "code",
   "execution_count": 149,
   "id": "6df42c23",
   "metadata": {},
   "outputs": [
    {
     "data": {
      "text/plain": [
       "3"
      ]
     },
     "execution_count": 149,
     "metadata": {},
     "output_type": "execute_result"
    }
   ],
   "source": [
    "mask(matrix,filtr,number)"
   ]
  }
 ],
 "metadata": {
  "kernelspec": {
   "display_name": "Python 3 (ipykernel)",
   "language": "python",
   "name": "python3"
  },
  "language_info": {
   "codemirror_mode": {
    "name": "ipython",
    "version": 3
   },
   "file_extension": ".py",
   "mimetype": "text/x-python",
   "name": "python",
   "nbconvert_exporter": "python",
   "pygments_lexer": "ipython3",
   "version": "3.9.7"
  }
 },
 "nbformat": 4,
 "nbformat_minor": 5
}
